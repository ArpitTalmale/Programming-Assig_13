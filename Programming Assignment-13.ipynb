{
 "cells": [
  {
   "cell_type": "markdown",
   "id": "7850041d",
   "metadata": {},
   "source": [
    "###  1.Write a program that calculates and prints the value according to the given formula:\n",
    "Q = Square root of [(2 * C * D)/H]\n",
    "Following are the fixed values of C and H:\n",
    "C is 50. H is 30.\n",
    "D is the variable whose values should be input to your program in a comma-separated sequence.\n",
    "Example: Let us assume the following comma separated input sequence is given to the program:100,150,180\n",
    "The output of the program should be: 18,22,24"
   ]
  },
  {
   "cell_type": "code",
   "execution_count": 7,
   "id": "19c69153",
   "metadata": {},
   "outputs": [
    {
     "name": "stdout",
     "output_type": "stream",
     "text": [
      "Enter the values:-100,150,180\n",
      "The output of the program is:- 18,22,24\n"
     ]
    }
   ],
   "source": [
    "#Solution:-\n",
    "\n",
    "from math import sqrt\n",
    "\n",
    "def cal_prog():\n",
    "    input_num = eval(input(\"Enter the values:-\"))\n",
    "    output = []\n",
    "    C = 50   #As per the given condition\n",
    "    H = 30   #As per the given condition\n",
    "    \n",
    "    for D in input_num:\n",
    "        Q = str(int(sqrt((2*C*D)/H)))\n",
    "        output.append(Q)\n",
    "    print(\"The output of the program is:-\",\",\".join(output)) \n",
    "    \n",
    "cal_prog()    "
   ]
  },
  {
   "cell_type": "markdown",
   "id": "ed88e82a",
   "metadata": {},
   "source": [
    "### 2.Write a program which takes 2 digits, X,Y as input and generates a 2-dimensional array. The element value in the i-th row and j-th column of the array should be i*j.\n",
    "Note: i=0,1.., X-1; j=0,1,¡Y-1.\n",
    "Example: Suppose the following inputs are given to the program: 3,5\n",
    "Then, the output of the program should be:[[0, 0, 0, 0, 0], [0, 1, 2, 3, 4], [0, 2, 4, 6, 8]]"
   ]
  },
  {
   "cell_type": "code",
   "execution_count": 8,
   "id": "36cb9f2c",
   "metadata": {},
   "outputs": [
    {
     "name": "stdout",
     "output_type": "stream",
     "text": [
      "Enter the number of rows:-3\n",
      "Enter the number of columns:-5\n",
      "The 2-D array [[0, 0, 0, 0, 0], [0, 1, 2, 3, 4], [0, 2, 4, 6, 8]]\n"
     ]
    }
   ],
   "source": [
    "#Solution:-\n",
    "\n",
    "def gen_array():\n",
    "    x = int(input(\"Enter the number of rows:-\"))\n",
    "    y = int(input(\"Enter the number of columns:-\"))\n",
    "    output_array = []\n",
    "    for i in range(x):\n",
    "        output_array.insert(x,[])\n",
    "        for k in range(y):\n",
    "            output_array[i].append(i*k)\n",
    "    print(\"The 2-D array\",output_array) \n",
    "gen_array()    "
   ]
  },
  {
   "cell_type": "markdown",
   "id": "201a37d0",
   "metadata": {},
   "source": [
    "### 3.Write a program that accepts a comma separated sequence of words as input and prints the words in a comma-separated sequence after sorting them alphabetically ?\n",
    "Suppose the following input is supplied to the program: without,hello,bag,world\n",
    "Then, the output should be: bag,hello,without,world "
   ]
  },
  {
   "cell_type": "code",
   "execution_count": 11,
   "id": "664c11a0",
   "metadata": {},
   "outputs": [
    {
     "name": "stdout",
     "output_type": "stream",
     "text": [
      "Enter the string:-without,hello,bag,world\n",
      "Output string after sorting:- bag,hello,without,world\n"
     ]
    }
   ],
   "source": [
    "#Solution:-\n",
    "\n",
    "def sequence_sort():\n",
    "    input_seq = input(\"Enter the string:-\")\n",
    "    output_seq = \",\".join(sorted(input_seq.split(\",\")))\n",
    "    \n",
    "    print(\"Output string after sorting:-\",output_seq)\n",
    "sequence_sort()    "
   ]
  },
  {
   "cell_type": "markdown",
   "id": "2200a7c0",
   "metadata": {},
   "source": [
    "### 4.Write a program that accepts a sequence of whitespace separated words as input and prints the words after removing all duplicate words and sorting them alphanumerically.\n",
    "Suppose the following input is supplied to the program: hello world and practice makes perfect and hello world again\n",
    "Then, the output should be: again and hello makes perfect practice world"
   ]
  },
  {
   "cell_type": "code",
   "execution_count": 12,
   "id": "a32c0a5e",
   "metadata": {},
   "outputs": [
    {
     "name": "stdout",
     "output_type": "stream",
     "text": [
      "Enter the string:-hello world and practice makes perfect and hello world again\n",
      "Program after removing duplicates:- again and hello makes perfect practice world\n"
     ]
    }
   ],
   "source": [
    "#Solution:-\n",
    "\n",
    "def seq_sep():\n",
    "    input_seq = input(\"Enter the string:-\")\n",
    "    output_seq = ' '.join(sorted(list(set(input_seq.split(' ')))))\n",
    "\n",
    "    print(\"Program after removing duplicates:-\",output_seq)\n",
    "seq_sep()    \n",
    "        \n",
    "        "
   ]
  },
  {
   "cell_type": "markdown",
   "id": "d5945f63",
   "metadata": {},
   "source": [
    "### 5.Write a program that accepts a sentence and calculate the number of letters and digits.\n",
    "Suppose the following input is supplied to the program: hello world! 123\n",
    "Then, the output should be:\n",
    "LETTERS 10\n",
    "DIGITS 3"
   ]
  },
  {
   "cell_type": "code",
   "execution_count": 14,
   "id": "7199e188",
   "metadata": {},
   "outputs": [
    {
     "name": "stdout",
     "output_type": "stream",
     "text": [
      "Enter the input:-hello world! 123\n",
      "Letters:- 10 \n",
      "Digits:- 3\n"
     ]
    }
   ],
   "source": [
    "#Solution:-\n",
    "\n",
    "def prog():\n",
    "    input_sent = input(\"Enter the input:-\")\n",
    "    aplha = \"ABCDEFGHIJKLMNOPQRSTUVWXYZabcdefghijklmnopqrstuvwxyz\"\n",
    "    digit = '0123456789'\n",
    "    letter_count = 0\n",
    "    digit_count = 0\n",
    "    for i in input_sent:\n",
    "        if i in aplha:\n",
    "            letter_count += 1\n",
    "        if i in digit:\n",
    "            digit_count += 1\n",
    "    print(f'Letters:- {letter_count} \\nDigits:- {digit_count}')\n",
    "prog()    \n",
    "    "
   ]
  },
  {
   "cell_type": "markdown",
   "id": "43ffb8fd",
   "metadata": {},
   "source": [
    "### 6.A website requires the users to input username and password to register. Write a program to check the validity of password input by users.\n",
    "Following are the criteria for checking the password:\n",
    "\n",
    "1> At least 1 letter between [a-z]\n",
    "2> At least 1 number between [0-9]\n",
    "3> At least 1 letter between [A-Z]\n",
    "4> At least 1 character from [$#@]\n",
    "5> Minimum length of transaction password: 6\n",
    "6> Maximum length of transaction password: 12\n",
    "\n",
    "Your program should accept a sequence of comma separated passwords and will check them according to the above criteria. Passwords that match the criteria are to be printed, each separated by a comma.\n",
    "\n",
    "Example:\n",
    "If the following passwords are given as input to the program: ABd1234@1,a F1#,2w3E*,2We3345\n",
    "Then, the output of the program should be:ABd1234@1"
   ]
  },
  {
   "cell_type": "code",
   "execution_count": 15,
   "id": "65c999ee",
   "metadata": {},
   "outputs": [
    {
     "name": "stdout",
     "output_type": "stream",
     "text": [
      "Enter the Input String: ABd1234@1,a F1#,2w3E*,2We334\n",
      "ABd1234@1\n"
     ]
    }
   ],
   "source": [
    "#Solution:-\n",
    "\n",
    "def Password():\n",
    "    in_string = input(\"Enter the Input String: \")\n",
    "    small_list = \"abcdefghijklmnopqrstuvwxyz\"\n",
    "    cap_list = \"ABCDEFGHIJKLMNOPQRSTUVWXYZ\"\n",
    "    num_list = \"0123456789\"\n",
    "    special_list = \"$#@\"\n",
    "    for ele in in_string.split(\",\"):\n",
    "        if len(ele) <= 12 and len(ele) >=6 :\n",
    "            if any(i.isupper() for i in ele):\n",
    "                if any(i.islower() for i in ele):\n",
    "                    if any(i for i in ele if i in special_list):\n",
    "                        print(ele)\n",
    "                               \n",
    "Password() "
   ]
  }
 ],
 "metadata": {
  "kernelspec": {
   "display_name": "Python 3 (ipykernel)",
   "language": "python",
   "name": "python3"
  },
  "language_info": {
   "codemirror_mode": {
    "name": "ipython",
    "version": 3
   },
   "file_extension": ".py",
   "mimetype": "text/x-python",
   "name": "python",
   "nbconvert_exporter": "python",
   "pygments_lexer": "ipython3",
   "version": "3.10.9"
  }
 },
 "nbformat": 4,
 "nbformat_minor": 5
}
